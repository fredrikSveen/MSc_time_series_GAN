{
 "cells": [
  {
   "cell_type": "markdown",
   "metadata": {},
   "source": [
    "# Test of the toolkit SimilarityTS\n",
    "\n",
    "This toolkit can compute the following metrics:\n",
    "\n",
    "- `kl`: Kullback-Leibler divergence\n",
    "- `js`: Jensen-Shannon divergence\n",
    "- `ks`: Kolmogorov-Smirnov test\n",
    "- `mmd`: Maximum Mean Discrepancy\n",
    "- `dtw`: Dynamic Time Warping\n",
    "- `cc`: Difference of co-variances\n",
    "- `cp`: Difference of correlations\n",
    "- `hi`: Difference of histograms"
   ]
  },
  {
   "cell_type": "code",
   "execution_count": 2,
   "metadata": {},
   "outputs": [
    {
     "name": "stderr",
     "output_type": "stream",
     "text": [
      "Selecting most similar windows: 100%|██████████| 5/5 [00:00<00:00, 147.32it/s]"
     ]
    },
    {
     "name": "stdout",
     "output_type": "stream",
     "text": [
      "ts2_0. cp: {'Multivariate': 0.4142027536735239}\n",
      "ts2_0. ks: {'Multivariate': 0.11, 'column-0': 0.1, 'column-1': 0.12}\n",
      "ts2_0. kl: {'Multivariate': 0.0780213705109741, 'column-0': (0.12557752727405683, 0.1224053495571846), 'column-1': (0.023114437873524407, 0.022675981764221857)}\n",
      "ts2_0. dtw: {'Multivariate': 3.689273562733041, 'column-0': 1.7990761675048166, 'column-1': 1.8374114289875776}\n",
      "ts2_0. cc: {'Multivariate': 1.1720695915623576}\n",
      "ts2_0. hi: {'Multivariate': 13.524837760345168, 'column-0': 14.966629547095765, 'column-1': 12.083045973594572}\n",
      "ts2_0. js: {'Multivariate': 0.05469982361933071, 'column-0': 4.21848151046162, 'column-1': 3.9948025756649805}\n",
      "ts2_0. mmd: {'Multivariate': 0.004787837177900212, 'column-0': 0.0008268824706030298, 'column-1': 0.0015805204581302856}\n",
      "ts2_1. cp: {'Multivariate': 0.19716233302637698}\n",
      "ts2_1. ks: {'Multivariate': 0.135, 'column-0': 0.16, 'column-1': 0.11}\n",
      "ts2_1. kl: {'Multivariate': 0.21933808212263145, 'column-0': (0.13377287060160217, 0.14584197169004925), 'column-1': (0.10123143868982815, 0.08903384054644077)}\n",
      "ts2_1. dtw: {'Multivariate': 3.707075655277055, 'column-0': 1.8274041825995913, 'column-1': 1.6057779469956444}\n",
      "ts2_1. cc: {'Multivariate': 1.340436030132559}\n",
      "ts2_1. hi: {'Multivariate': 14.282811036014815, 'column-0': 17.88854381999832, 'column-1': 10.677078252031311}\n",
      "ts2_1. js: {'Multivariate': 0.23185706976794745, 'column-0': 3.4875457915178045, 'column-1': 4.643633754695796}\n",
      "ts2_1. mmd: {'Multivariate': 0.01106620223439636, 'column-0': 0.009698129965188373, 'column-1': 0.002050388457893071}\n",
      "ts2_2. cp: {'Multivariate': 0.47387871604639575}\n",
      "ts2_2. ks: {'Multivariate': 0.105, 'column-0': 0.12, 'column-1': 0.09}\n",
      "ts2_2. kl: {'Multivariate': 0.08324650317774906, 'column-0': (0.049685560392923156, 0.04933586276282855), 'column-1': (0.04444533227946044, 0.04816382009922505)}\n",
      "ts2_2. dtw: {'Multivariate': 3.7301161083346663, 'column-0': 1.8036305603498552, 'column-1': 1.61572604364808}\n",
      "ts2_2. cc: {'Multivariate': 1.173457922169399}\n",
      "ts2_2. hi: {'Multivariate': 9.090320544535615, 'column-0': 8.48528137423857, 'column-1': 9.695359714832659}\n",
      "ts2_2. js: {'Multivariate': 0.10065725163436652, 'column-0': 3.04787813041271, 'column-1': 3.344797264656065}\n",
      "ts2_2. mmd: {'Multivariate': 0.006734860732208636, 'column-0': 0.003129839001335233, 'column-1': 0.0005831725079605832}\n",
      "ts2_3. cp: {'Multivariate': 0.23033229880308365}\n",
      "ts2_3. ks: {'Multivariate': 0.135, 'column-0': 0.12, 'column-1': 0.15}\n",
      "ts2_3. kl: {'Multivariate': 0.045754556155746175, 'column-0': (0.09531883431284864, 0.10318362704706496), 'column-1': (0.14711664321326054, 0.1552134376717617)}\n",
      "ts2_3. dtw: {'Multivariate': 3.6987806180748493, 'column-0': 1.7956172391500973, 'column-1': 1.834070650008479}\n",
      "ts2_3. cc: {'Multivariate': 1.3076847016834459}\n",
      "ts2_3. hi: {'Multivariate': 13.836888668984884, 'column-0': 10.295630140987, 'column-1': 17.378147196982766}\n",
      "ts2_3. js: {'Multivariate': 0.02765397555045851, 'column-0': 3.7050769802782546, 'column-1': 4.35666452220412}\n",
      "ts2_3. mmd: {'Multivariate': 0.004272766448927268, 'column-0': 0.0022544324385187497, 'column-1': 0.0016544638773738907}\n",
      "ts2_4. cp: {'Multivariate': 0.15450683803641097}\n",
      "ts2_4. ks: {'Multivariate': 0.175, 'column-0': 0.09, 'column-1': 0.26}\n",
      "ts2_4. kl: {'Multivariate': 0.3479864349746096, 'column-0': (0.1161641509246549, 0.10695540471854226), 'column-1': (0.20386678640513445, 0.2026643283932006)}\n",
      "ts2_4. dtw: {'Multivariate': 3.765637878764278, 'column-0': 1.8256726542476693, 'column-1': 1.8133509359107571}\n",
      "ts2_4. cc: {'Multivariate': 1.3004117735533685}\n",
      "ts2_4. hi: {'Multivariate': 15.624481182562873, 'column-0': 13.416407864998739, 'column-1': 17.832554500127006}\n",
      "ts2_4. js: {'Multivariate': 0.2225946563279711, 'column-0': 3.754331378548717, 'column-1': 4.724844928976631}\n",
      "ts2_4. mmd: {'Multivariate': 0.02211651879200871, 'column-0': 0.0010107921691389077, 'column-1': 0.024029314145946223}\n"
     ]
    },
    {
     "name": "stderr",
     "output_type": "stream",
     "text": [
      "\n"
     ]
    }
   ],
   "source": [
    "#Provided example 1\n",
    "import numpy as np\n",
    "from similarity_ts.similarity_ts import SimilarityTs\n",
    "\n",
    "ts1 = np.random.rand(200, 2)\n",
    "ts2s = np.random.rand(5, 100, 2)\n",
    "similarity_ts = SimilarityTs(ts1, ts2s)\n",
    "\n",
    "for ts2_name, metric_name, computed_metric in similarity_ts.get_metric_computer():\n",
    "    print(f'{ts2_name}. {metric_name}: {computed_metric}')\n"
   ]
  },
  {
   "cell_type": "code",
   "execution_count": 4,
   "metadata": {},
   "outputs": [
    {
     "name": "stderr",
     "output_type": "stream",
     "text": [
      "Selecting most similar windows: 100%|██████████| 5/5 [00:00<00:00, 134.17it/s]\n"
     ]
    },
    {
     "name": "stdout",
     "output_type": "stream",
     "text": [
      "ts2_0. cp: {'Multivariate': 0.006399997319896164}\n",
      "ts2_0. ks: {'Multivariate': 0.08499999999999999, 'column-0': 0.09, 'column-1': 0.08}\n",
      "ts2_0. kl: {'Multivariate': -0.22296491531496038, 'column-0': (0.09842131079242808, 0.10110102238658297), 'column-1': (0.03862197536181733, 0.04101449942436736)}\n",
      "ts2_0. dtw: {'Multivariate': 3.6678864423512403, 'column-0': 1.8027277243397133, 'column-1': 1.8157258610585862}\n",
      "ts2_0. cc: {'Multivariate': 0.9269094055468462}\n",
      "ts2_0. hi: {'Multivariate': 14.487266298961138, 'column-0': 14.832396974191326, 'column-1': 14.142135623730951}\n",
      "ts2_0. js: {'Multivariate': -0.1347455452020924, 'column-0': 3.6764255658324427, 'column-1': 4.077419006406275}\n",
      "ts2_0. mmd: {'Multivariate': 0.000564699711072203, 'column-0': 0.0002543284663787393, 'column-1': 0.00025721760425234663}\n",
      "ts2_1. cp: {'Multivariate': 0.21095393765549572}\n",
      "ts2_1. ks: {'Multivariate': 0.13, 'column-0': 0.12, 'column-1': 0.14}\n",
      "ts2_1. kl: {'Multivariate': -0.28089820294552953, 'column-0': (0.0748573424177619, 0.08315002629103153), 'column-1': (0.08575893532166348, 0.08800650429577553)}\n",
      "ts2_1. dtw: {'Multivariate': 3.8437552989333206, 'column-0': 1.823781877001638, 'column-1': 1.8614151073418141}\n",
      "ts2_1. cc: {'Multivariate': 1.1024963068724571}\n",
      "ts2_1. hi: {'Multivariate': 13.37861836232682, 'column-0': 13.2664991614216, 'column-1': 13.490737563232042}\n",
      "ts2_1. js: {'Multivariate': -0.05392947674722039, 'column-0': 4.090901957107049, 'column-1': 3.1117000115275237}\n",
      "ts2_1. mmd: {'Multivariate': 0.0068591375957298695, 'column-0': 0.001534869328120081, 'column-1': 0.005570124442498603}\n",
      "ts2_2. cp: {'Multivariate': 0.0009269786720791026}\n",
      "ts2_2. ks: {'Multivariate': 0.11499999999999999, 'column-0': 0.11, 'column-1': 0.12}\n",
      "ts2_2. kl: {'Multivariate': -0.0770085548538473, 'column-0': (0.04861289014843817, 0.049868343846437124), 'column-1': (0.14842545044089148, 0.14181207546244312)}\n",
      "ts2_2. dtw: {'Multivariate': 3.7649157044138355, 'column-0': 1.8674815767088007, 'column-1': 1.9640490106445185}\n",
      "ts2_2. cc: {'Multivariate': 1.1704373162444246}\n",
      "ts2_2. hi: {'Multivariate': 13.554377488593147, 'column-0': 10.677078252031311, 'column-1': 16.431676725154983}\n",
      "ts2_2. js: {'Multivariate': 0.21514439806739644, 'column-0': 3.999484762588203, 'column-1': 3.835029758367945}\n",
      "ts2_2. mmd: {'Multivariate': 0.002966172752481455, 'column-0': 0.0028651311314100703, 'column-1': 0.0006781042968984075}\n",
      "ts2_3. cp: {'Multivariate': 0.24689519734152335}\n",
      "ts2_3. ks: {'Multivariate': 0.08499999999999999, 'column-0': 0.11, 'column-1': 0.06}\n",
      "ts2_3. kl: {'Multivariate': -0.20726955379318962, 'column-0': (0.17607044866971486, 0.19678651095904032), 'column-1': (0.05513623166313841, 0.059637410945004854)}\n",
      "ts2_3. dtw: {'Multivariate': 3.7234913559497067, 'column-0': 1.9339411003530034, 'column-1': 1.7710697536602318}\n",
      "ts2_3. cc: {'Multivariate': 1.1409119352051762}\n",
      "ts2_3. hi: {'Multivariate': 13.146183022467312, 'column-0': 16.911534525287763, 'column-1': 9.38083151964686}\n",
      "ts2_3. js: {'Multivariate': -0.07524881816584435, 'column-0': 4.330769614436093, 'column-1': 3.570660072032564}\n",
      "ts2_3. mmd: {'Multivariate': 0.0019256123669617597, 'column-0': 0.0008176645060562482, 'column-1': 0.00039813263699195467}\n",
      "ts2_4. cp: {'Multivariate': 0.14270115758183233}\n",
      "ts2_4. ks: {'Multivariate': 0.14, 'column-0': 0.13, 'column-1': 0.15}\n",
      "ts2_4. kl: {'Multivariate': -0.162876257654723, 'column-0': (0.0987995909542567, 0.09688060457235277), 'column-1': (0.16333883838686047, 0.18312977054755034)}\n",
      "ts2_4. dtw: {'Multivariate': 3.647415871061226, 'column-0': 1.8878277865994633, 'column-1': 1.92744752838023}\n",
      "ts2_4. cc: {'Multivariate': 1.2175595022926498}\n",
      "ts2_4. hi: {'Multivariate': 16.34150143711534, 'column-0': 14.352700094407323, 'column-1': 18.33030277982336}\n",
      "ts2_4. js: {'Multivariate': 0.05694423789635232, 'column-0': 3.388437799104344, 'column-1': 4.6398106805922446}\n",
      "ts2_4. mmd: {'Multivariate': 0.006707699770374109, 'column-0': 0.00507640542050547, 'column-1': 0.0017065977291228496}\n"
     ]
    }
   ],
   "source": [
    "#Provided example 2\n",
    "import os\n",
    "import numpy as np\n",
    "from similarity_ts.plots.plot_factory import PlotFactory\n",
    "from similarity_ts.similarity_ts import SimilarityTs\n",
    "\n",
    "def main():\n",
    "    ts1 = np.random.rand(200, 2)\n",
    "    ts2s = np.random.rand(5, 100, 2)\n",
    "    similarity_ts = SimilarityTs(ts1, ts2s)\n",
    "    for ts2_name, metric_name, computed_metric in similarity_ts.get_metric_computer():\n",
    "        print(f'{ts2_name}. {metric_name}: {computed_metric}')\n",
    "    for ts2_name, plot_name, generated_plots in similarity_ts.get_plot_computer():\n",
    "        __save_figures(ts2_name, plot_name, generated_plots)\n",
    "\n",
    "\n",
    "def __save_figures(filename, plot_name, generated_plots):\n",
    "    for plot in generated_plots:\n",
    "        dir_path = __create_directory(filename, f'figures', plot_name)\n",
    "        plot[0].savefig(f'{dir_path}{plot[0].axes[0].get_title()}.pdf', format='pdf', bbox_inches='tight')\n",
    "\n",
    "\n",
    "def __create_directory(filename, path, plot_name):\n",
    "    if plot_name in PlotFactory.get_instance().figures_requires_all_samples:\n",
    "        dir_path = f'{path}/{plot_name}/'\n",
    "    else:\n",
    "        original_filename = os.path.splitext(filename)[0]\n",
    "        dir_path = f'{path}/{original_filename}/{plot_name}/'\n",
    "    os.makedirs(dir_path, exist_ok=True)\n",
    "    return dir_path\n",
    "\n",
    "if __name__ == '__main__':\n",
    "    main()"
   ]
  }
 ],
 "metadata": {
  "kernelspec": {
   "display_name": "venv",
   "language": "python",
   "name": "python3"
  },
  "language_info": {
   "codemirror_mode": {
    "name": "ipython",
    "version": 3
   },
   "file_extension": ".py",
   "mimetype": "text/x-python",
   "name": "python",
   "nbconvert_exporter": "python",
   "pygments_lexer": "ipython3",
   "version": "3.9.13"
  }
 },
 "nbformat": 4,
 "nbformat_minor": 2
}
