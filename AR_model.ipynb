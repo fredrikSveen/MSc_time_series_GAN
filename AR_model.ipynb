{
 "cells": [
  {
   "cell_type": "markdown",
   "metadata": {},
   "source": [
    "# Using Autoregressive models to forecast sine signal"
   ]
  },
  {
   "cell_type": "code",
   "execution_count": 2,
   "metadata": {},
   "outputs": [],
   "source": [
    "# Importing required libraries \n",
    "import numpy as np \n",
    "import pandas as pd \n",
    "import matplotlib.pyplot as plt "
   ]
  },
  {
   "cell_type": "code",
   "execution_count": 7,
   "metadata": {},
   "outputs": [
    {
     "name": "stdout",
     "output_type": "stream",
     "text": [
      "<class 'pandas.core.series.Series'>\n"
     ]
    }
   ],
   "source": [
    "data = np.loadtxt(f'sine_data/sine_123_1000_1.csv', delimiter = \",\",skiprows = 1)\n",
    "# data = data[0]\n",
    "data = pd.DataFrame(data)\n",
    "data = data[1]\n",
    "print(type(data))"
   ]
  },
  {
   "cell_type": "code",
   "execution_count": 8,
   "metadata": {},
   "outputs": [
    {
     "name": "stdout",
     "output_type": "stream",
     "text": [
      "Performing stepwise search to minimize aic\n",
      " ARIMA(1,0,1)(0,1,1)[12] intercept   : AIC=inf, Time=37.74 sec\n",
      " ARIMA(0,0,0)(0,1,0)[12] intercept   : AIC=3486.563, Time=0.17 sec\n",
      " ARIMA(1,0,0)(1,1,0)[12] intercept   : AIC=inf, Time=7.13 sec\n",
      " ARIMA(0,0,1)(0,1,1)[12] intercept   : AIC=inf, Time=26.55 sec\n",
      " ARIMA(0,0,0)(0,1,0)[12]             : AIC=3484.658, Time=0.46 sec\n",
      " ARIMA(0,0,0)(1,1,0)[12] intercept   : AIC=inf, Time=9.04 sec\n",
      " ARIMA(0,0,0)(0,1,1)[12] intercept   : AIC=inf, Time=21.35 sec\n",
      " ARIMA(0,0,0)(1,1,1)[12] intercept   : AIC=inf, Time=25.86 sec\n",
      " ARIMA(1,0,0)(0,1,0)[12] intercept   : AIC=919.503, Time=1.45 sec\n",
      " ARIMA(1,0,0)(0,1,1)[12] intercept   : AIC=inf, Time=31.52 sec\n",
      " ARIMA(1,0,0)(1,1,1)[12] intercept   : AIC=inf, Time=172.83 sec\n",
      " ARIMA(2,0,0)(0,1,0)[12] intercept   : AIC=inf, Time=94.44 sec\n",
      " ARIMA(1,0,1)(0,1,0)[12] intercept   : AIC=inf, Time=29.72 sec\n",
      " ARIMA(0,0,1)(0,1,0)[12] intercept   : AIC=inf, Time=31.57 sec\n",
      " ARIMA(2,0,1)(0,1,0)[12] intercept   : AIC=-2010.895, Time=52.83 sec\n",
      " ARIMA(2,0,1)(1,1,0)[12] intercept   : AIC=7635903738520.313, Time=152.14 sec\n",
      " ARIMA(2,0,1)(0,1,1)[12] intercept   : AIC=inf, Time=107.27 sec\n",
      " ARIMA(2,0,1)(1,1,1)[12] intercept   : AIC=-48.517, Time=76.22 sec\n",
      " ARIMA(3,0,1)(0,1,0)[12] intercept   : AIC=-10735.830, Time=19.86 sec\n",
      " ARIMA(3,0,1)(1,1,0)[12] intercept   : AIC=-12046.685, Time=86.58 sec\n"
     ]
    },
    {
     "ename": "",
     "evalue": "",
     "output_type": "error",
     "traceback": [
      "\u001b[1;31mThe Kernel crashed while executing code in the current cell or a previous cell. \n",
      "\u001b[1;31mPlease review the code in the cell(s) to identify a possible cause of the failure. \n",
      "\u001b[1;31mClick <a href='https://aka.ms/vscodeJupyterKernelCrash'>here</a> for more info. \n",
      "\u001b[1;31mView Jupyter <a href='command:jupyter.viewOutput'>log</a> for further details."
     ]
    }
   ],
   "source": [
    "# Import the library \n",
    "from pmdarima import auto_arima \n",
    "  \n",
    "# Ignore harmless warnings \n",
    "import warnings \n",
    "warnings.filterwarnings(\"ignore\") \n",
    "  \n",
    "# Fit auto_arima function to AirPassengers dataset \n",
    "stepwise_fit = auto_arima(data, start_p = 1, start_q = 1, \n",
    "                          max_p = 3, max_q = 3, m = 12, \n",
    "                          start_P = 0, seasonal = True, \n",
    "                          d = None, D = 1, trace = True, \n",
    "                          error_action ='ignore',   # we don't want to know if an order does not work \n",
    "                          suppress_warnings = True,  # we don't want convergence warnings \n",
    "                          stepwise = True)           # set to stepwise \n",
    "  \n",
    "# To print the summary \n",
    "stepwise_fit.summary() "
   ]
  }
 ],
 "metadata": {
  "kernelspec": {
   "display_name": "thesis",
   "language": "python",
   "name": "python3"
  },
  "language_info": {
   "codemirror_mode": {
    "name": "ipython",
    "version": 3
   },
   "file_extension": ".py",
   "mimetype": "text/x-python",
   "name": "python",
   "nbconvert_exporter": "python",
   "pygments_lexer": "ipython3",
   "version": "3.10.13"
  }
 },
 "nbformat": 4,
 "nbformat_minor": 2
}
