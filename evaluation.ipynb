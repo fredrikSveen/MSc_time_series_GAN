{
 "cells": [
  {
   "cell_type": "markdown",
   "metadata": {},
   "source": [
    "# Evaluation of the similarity between genuine and synthetic data\n",
    "\n"
   ]
  },
  {
   "cell_type": "code",
   "execution_count": 7,
   "metadata": {},
   "outputs": [],
   "source": [
    "# Import of necessary packages\n",
    "import os\n",
    "import pandas as pd\n",
    "import numpy as np\n",
    "from data_loading import df_from_file, synt_data_from_file, generate_from_pretrained"
   ]
  },
  {
   "cell_type": "markdown",
   "metadata": {},
   "source": [
    "## Data preparation"
   ]
  },
  {
   "cell_type": "code",
   "execution_count": 2,
   "metadata": {},
   "outputs": [
    {
     "name": "stdout",
     "output_type": "stream",
     "text": [
      "The original data is imported as a list\n",
      "Starting data generation with TimeGAN\n",
      "INFO:tensorflow:Restoring parameters from trained_models/./model1\n"
     ]
    },
    {
     "name": "stderr",
     "output_type": "stream",
     "text": [
      "2024-02-28 16:12:47.693905: I tensorflow/compiler/mlir/mlir_graph_optimization_pass.cc:353] MLIR V1 optimization pass is not enabled\n"
     ]
    },
    {
     "name": "stdout",
     "output_type": "stream",
     "text": [
      "Data generation complete\n"
     ]
    }
   ],
   "source": [
    "# Importing original\n",
    "orig_filename = \"sensor_data_norm2_indexless_10days.csv\"\n",
    "orig_data = df_from_file(orig_filename)\n",
    "\n",
    "\n",
    "# Synthetic data\n",
    "data_source = \"generate_from_pretrained\" #Possibilities: from_csv, generate_from_pretrained\n",
    "gen_model_filename = os.path.join(os.curdir, \"trained_models\", \"model1.meta\")\n",
    "synt_filename = \"\"\n",
    "\n",
    "synt_data = pd.DataFrame()\n",
    "if data_source == \"from_csv\":\n",
    "    try:\n",
    "        synt_data = synt_data_from_file(synt_filename)\n",
    "    except FileNotFoundError:\n",
    "        print(\"The specified filename does not exist in the synt_data folder.\")\n",
    "    except IsADirectoryError:\n",
    "        print(\"No filename was given\")\n",
    "elif data_source == \"generate_from_pretrained\":\n",
    "    try: \n",
    "        synt_data = generate_from_pretrained(\"timegan\", gen_model_filename, orig_data, orig_data_filename=orig_filename)\n",
    "    except NameError:\n",
    "        print(\"The specified filename for the pretrained model does not exist\")\n",
    "else:\n",
    "    print(\"The data_source variable is not defined correctly. Choose either from_csv or generate_from_pretrained\")\n",
    "\n",
    "\n"
   ]
  },
  {
   "cell_type": "code",
   "execution_count": 8,
   "metadata": {},
   "outputs": [],
   "source": [
    "# Generating a random dataframe with the same dimensions. This will be used for control testing\n",
    "rand_data = pd.DataFrame(np.random.normal(0, 0.1, orig_data.shape))"
   ]
  },
  {
   "cell_type": "code",
   "execution_count": 9,
   "metadata": {},
   "outputs": [
    {
     "name": "stdout",
     "output_type": "stream",
     "text": [
      "The size of the original data dataframe is (28800, 9)\n",
      "The size of the synthetic data dataframe is (28776, 9)\n",
      "The size of the random data dataframe is (28800, 9)\n"
     ]
    }
   ],
   "source": [
    "print(f'The size of the original data dataframe is {orig_data.shape}')\n",
    "print(f'The size of the synthetic data dataframe is {synt_data.shape}')\n",
    "print(f'The size of the random data dataframe is {rand_data.shape}')"
   ]
  },
  {
   "cell_type": "markdown",
   "metadata": {},
   "source": [
    "## Evaluation of synthetic data quality"
   ]
  },
  {
   "cell_type": "code",
   "execution_count": null,
   "metadata": {},
   "outputs": [],
   "source": []
  }
 ],
 "metadata": {
  "kernelspec": {
   "display_name": "thesis",
   "language": "python",
   "name": "python3"
  },
  "language_info": {
   "codemirror_mode": {
    "name": "ipython",
    "version": 3
   },
   "file_extension": ".py",
   "mimetype": "text/x-python",
   "name": "python",
   "nbconvert_exporter": "python",
   "pygments_lexer": "ipython3",
   "version": "3.10.13"
  }
 },
 "nbformat": 4,
 "nbformat_minor": 2
}
