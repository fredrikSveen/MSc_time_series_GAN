{
 "cells": [
  {
   "cell_type": "markdown",
   "metadata": {},
   "source": [
    "# Simple RNN for time series generation"
   ]
  },
  {
   "cell_type": "markdown",
   "metadata": {},
   "source": [
    "### Method\n",
    "\n",
    "Heavily based on [this website](https://www.geeksforgeeks.org/multivariate-time-series-forecasting-with-lstms-in-keras/)"
   ]
  },
  {
   "cell_type": "code",
   "execution_count": 39,
   "metadata": {},
   "outputs": [],
   "source": [
    "import datetime\n",
    "import sklearn\n",
    "from sklearn.impute import SimpleImputer\n",
    "from sklearn.preprocessing import MinMaxScaler\n",
    "from sklearn.decomposition import KernelPCA\n",
    "import numpy as np\n",
    "import pandas as pd\n",
    "import math\n",
    "import keras\n",
    "import matplotlib.pyplot as plt\n",
    "import tensorflow as tf\n",
    "tf.random.set_seed(99)"
   ]
  },
  {
   "cell_type": "code",
   "execution_count": 40,
   "metadata": {},
   "outputs": [],
   "source": [
    "dim = 1\n",
    "data = np.loadtxt(f'sine_data/sine_123_1000_{dim}.csv', delimiter = \",\",skiprows = 1) # Simple sine\n",
    "# data = np.loadtxt(f'complex_sine_data/extra_comp_sine_123_1000_{dim}.csv', delimiter = \",\",skiprows = 1) # Complex sine\n",
    "data = pd.DataFrame(data)"
   ]
  },
  {
   "cell_type": "code",
   "execution_count": 41,
   "metadata": {},
   "outputs": [],
   "source": [
    "imputer = SimpleImputer(missing_values=np.nan) # Handling missing values\n",
    "dataFrame = pd.DataFrame(imputer.fit_transform(data), columns=data.columns)\n",
    "dataFrame = dataFrame.reset_index(drop=True)\n",
    "# Applying feature scaling\n",
    "scaler = MinMaxScaler(feature_range=(0, 1))\n",
    "df_scaled = scaler.fit_transform(dataFrame.to_numpy())\n",
    "df_scaled = pd.DataFrame(df_scaled, columns=list(dataFrame.columns))\n",
    "target_scaler = MinMaxScaler(feature_range=(0, 1))\n",
    "df_scaled = target_scaler.fit_transform(dataFrame.to_numpy())\n",
    "df_scaled = pd.DataFrame(df_scaled.astype(float))\n"
   ]
  },
  {
   "cell_type": "code",
   "execution_count": 42,
   "metadata": {},
   "outputs": [],
   "source": [
    "# Single step dataset preparation\n",
    "def singleStepSampler(df, window):\n",
    "\txRes = []\n",
    "\tyRes = []\n",
    "\tfor i in range(0, len(df) - window):\n",
    "\t\tres = []\n",
    "\t\tfor j in range(0, window):\n",
    "\t\t\tr = []\n",
    "\t\t\tfor col in df.columns:\n",
    "\t\t\t\tr.append(df[col][i + j])\n",
    "\t\t\tres.append(r)\n",
    "\t\txRes.append(res)\n",
    "\t\tyRes.append(df.iloc[i + window].values)\n",
    "\treturn np.array(xRes), np.array(yRes)\n"
   ]
  },
  {
   "cell_type": "code",
   "execution_count": 43,
   "metadata": {},
   "outputs": [],
   "source": [
    "# Dataset splitting\n",
    "SPLIT = 0.8\n",
    "(xVal, yVal) = singleStepSampler(df_scaled, 20)\n",
    "X_train = xVal[:int(SPLIT * len(xVal))]\n",
    "y_train = yVal[:int(SPLIT * len(yVal))]\n",
    "X_test = xVal[int(SPLIT * len(xVal)):]\n",
    "y_test = yVal[int(SPLIT * len(yVal)):]\n",
    "horizon = len(X_test)\n"
   ]
  },
  {
   "cell_type": "code",
   "execution_count": 44,
   "metadata": {},
   "outputs": [
    {
     "name": "stderr",
     "output_type": "stream",
     "text": [
      "2024-05-14 13:47:15.466900: I tensorflow/core/common_runtime/executor.cc:1197] [/device:CPU:0] (DEBUG INFO) Executor start aborting (this does not indicate an error and you can ignore this message): INVALID_ARGUMENT: You must feed a value for placeholder tensor 'gradients/split_2_grad/concat/split_2/split_dim' with dtype int32\n",
      "\t [[{{node gradients/split_2_grad/concat/split_2/split_dim}}]]\n",
      "2024-05-14 13:47:15.495475: I tensorflow/core/common_runtime/executor.cc:1197] [/device:CPU:0] (DEBUG INFO) Executor start aborting (this does not indicate an error and you can ignore this message): INVALID_ARGUMENT: You must feed a value for placeholder tensor 'gradients/split_grad/concat/split/split_dim' with dtype int32\n",
      "\t [[{{node gradients/split_grad/concat/split/split_dim}}]]\n",
      "2024-05-14 13:47:15.513980: I tensorflow/core/common_runtime/executor.cc:1197] [/device:CPU:0] (DEBUG INFO) Executor start aborting (this does not indicate an error and you can ignore this message): INVALID_ARGUMENT: You must feed a value for placeholder tensor 'gradients/split_1_grad/concat/split_1/split_dim' with dtype int32\n",
      "\t [[{{node gradients/split_1_grad/concat/split_1/split_dim}}]]\n"
     ]
    },
    {
     "name": "stdout",
     "output_type": "stream",
     "text": [
      "Model: \"sequential_4\"\n",
      "_________________________________________________________________\n",
      " Layer (type)                Output Shape              Param #   \n",
      "=================================================================\n",
      " lstm_4 (LSTM)               (None, 200)               162400    \n",
      "                                                                 \n",
      " dropout_4 (Dropout)         (None, 200)               0         \n",
      "                                                                 \n",
      " dense_4 (Dense)             (None, 1)                 201       \n",
      "                                                                 \n",
      "=================================================================\n",
      "Total params: 162,601\n",
      "Trainable params: 162,601\n",
      "Non-trainable params: 0\n",
      "_________________________________________________________________\n"
     ]
    }
   ],
   "source": [
    "\n",
    "multivariate_lstm = keras.Sequential()\n",
    "multivariate_lstm.add(keras.layers.LSTM(200, input_shape=(X_train.shape[1], X_train.shape[2])))\n",
    "multivariate_lstm.add(keras.layers.Dropout(0.2))\n",
    "multivariate_lstm.add(keras.layers.Dense(dim, activation='linear'))\n",
    "multivariate_lstm.compile(loss = 'MeanSquaredError', metrics=['MAE'], optimizer='Adam')\n",
    "multivariate_lstm.summary()"
   ]
  },
  {
   "cell_type": "code",
   "execution_count": 45,
   "metadata": {},
   "outputs": [
    {
     "name": "stdout",
     "output_type": "stream",
     "text": [
      "Epoch 1/20\n"
     ]
    },
    {
     "name": "stderr",
     "output_type": "stream",
     "text": [
      "2024-05-14 13:47:18.952068: I tensorflow/core/common_runtime/executor.cc:1197] [/device:CPU:0] (DEBUG INFO) Executor start aborting (this does not indicate an error and you can ignore this message): INVALID_ARGUMENT: You must feed a value for placeholder tensor 'gradients/split_2_grad/concat/split_2/split_dim' with dtype int32\n",
      "\t [[{{node gradients/split_2_grad/concat/split_2/split_dim}}]]\n",
      "2024-05-14 13:47:18.965188: I tensorflow/core/common_runtime/executor.cc:1197] [/device:CPU:0] (DEBUG INFO) Executor start aborting (this does not indicate an error and you can ignore this message): INVALID_ARGUMENT: You must feed a value for placeholder tensor 'gradients/split_grad/concat/split/split_dim' with dtype int32\n",
      "\t [[{{node gradients/split_grad/concat/split/split_dim}}]]\n",
      "2024-05-14 13:47:18.977295: I tensorflow/core/common_runtime/executor.cc:1197] [/device:CPU:0] (DEBUG INFO) Executor start aborting (this does not indicate an error and you can ignore this message): INVALID_ARGUMENT: You must feed a value for placeholder tensor 'gradients/split_1_grad/concat/split_1/split_dim' with dtype int32\n",
      "\t [[{{node gradients/split_1_grad/concat/split_1/split_dim}}]]\n",
      "2024-05-14 13:47:21.909541: I tensorflow/core/common_runtime/executor.cc:1197] [/device:CPU:0] (DEBUG INFO) Executor start aborting (this does not indicate an error and you can ignore this message): INVALID_ARGUMENT: You must feed a value for placeholder tensor 'gradients/split_2_grad/concat/split_2/split_dim' with dtype int32\n",
      "\t [[{{node gradients/split_2_grad/concat/split_2/split_dim}}]]\n",
      "2024-05-14 13:47:21.918280: I tensorflow/core/common_runtime/executor.cc:1197] [/device:CPU:0] (DEBUG INFO) Executor start aborting (this does not indicate an error and you can ignore this message): INVALID_ARGUMENT: You must feed a value for placeholder tensor 'gradients/split_grad/concat/split/split_dim' with dtype int32\n",
      "\t [[{{node gradients/split_grad/concat/split/split_dim}}]]\n",
      "2024-05-14 13:47:21.927663: I tensorflow/core/common_runtime/executor.cc:1197] [/device:CPU:0] (DEBUG INFO) Executor start aborting (this does not indicate an error and you can ignore this message): INVALID_ARGUMENT: You must feed a value for placeholder tensor 'gradients/split_1_grad/concat/split_1/split_dim' with dtype int32\n",
      "\t [[{{node gradients/split_1_grad/concat/split_1/split_dim}}]]\n"
     ]
    },
    {
     "name": "stdout",
     "output_type": "stream",
     "text": [
      "25/25 [==============================] - 22s 129ms/step - loss: 0.0822 - MAE: 0.2204\n",
      "Epoch 2/20\n",
      "25/25 [==============================] - 6s 247ms/step - loss: 0.0492 - MAE: 0.1824\n",
      "Epoch 3/20\n",
      "25/25 [==============================] - 5s 212ms/step - loss: 0.0474 - MAE: 0.1812\n",
      "Epoch 4/20\n",
      "25/25 [==============================] - 5s 187ms/step - loss: 0.0472 - MAE: 0.1808\n",
      "Epoch 5/20\n",
      "25/25 [==============================] - 6s 243ms/step - loss: 0.0471 - MAE: 0.1806\n",
      "Epoch 6/20\n",
      "25/25 [==============================] - 4s 146ms/step - loss: 0.0472 - MAE: 0.1806\n",
      "Epoch 7/20\n",
      "25/25 [==============================] - 4s 147ms/step - loss: 0.0470 - MAE: 0.1805\n",
      "Epoch 8/20\n",
      "25/25 [==============================] - 4s 179ms/step - loss: 0.0470 - MAE: 0.1804\n",
      "Epoch 9/20\n",
      "25/25 [==============================] - 5s 188ms/step - loss: 0.0469 - MAE: 0.1804\n",
      "Epoch 10/20\n",
      "25/25 [==============================] - 4s 157ms/step - loss: 0.0469 - MAE: 0.1802\n",
      "Epoch 11/20\n",
      "25/25 [==============================] - 4s 156ms/step - loss: 0.0468 - MAE: 0.1801\n",
      "Epoch 12/20\n",
      "25/25 [==============================] - 4s 160ms/step - loss: 0.0468 - MAE: 0.1804\n",
      "Epoch 13/20\n",
      "25/25 [==============================] - 4s 142ms/step - loss: 0.0468 - MAE: 0.1801\n",
      "Epoch 14/20\n",
      "25/25 [==============================] - 4s 154ms/step - loss: 0.0468 - MAE: 0.1802\n",
      "Epoch 15/20\n",
      "25/25 [==============================] - 4s 145ms/step - loss: 0.0468 - MAE: 0.1803\n",
      "Epoch 16/20\n",
      "25/25 [==============================] - 4s 167ms/step - loss: 0.0468 - MAE: 0.1801\n",
      "Epoch 17/20\n",
      "25/25 [==============================] - 6s 252ms/step - loss: 0.0467 - MAE: 0.1801\n",
      "Epoch 18/20\n",
      "25/25 [==============================] - 5s 194ms/step - loss: 0.0467 - MAE: 0.1801\n",
      "Epoch 19/20\n",
      "25/25 [==============================] - 5s 211ms/step - loss: 0.0467 - MAE: 0.1803\n",
      "Epoch 20/20\n",
      "25/25 [==============================] - 5s 190ms/step - loss: 0.0468 - MAE: 0.1801\n"
     ]
    }
   ],
   "source": [
    "history = multivariate_lstm.fit(X_train, y_train, epochs=20)\n"
   ]
  },
  {
   "cell_type": "code",
   "execution_count": 46,
   "metadata": {},
   "outputs": [
    {
     "name": "stderr",
     "output_type": "stream",
     "text": [
      "2024-05-14 13:49:08.400399: I tensorflow/core/common_runtime/executor.cc:1197] [/device:CPU:0] (DEBUG INFO) Executor start aborting (this does not indicate an error and you can ignore this message): INVALID_ARGUMENT: You must feed a value for placeholder tensor 'gradients/split_2_grad/concat/split_2/split_dim' with dtype int32\n",
      "\t [[{{node gradients/split_2_grad/concat/split_2/split_dim}}]]\n",
      "2024-05-14 13:49:08.413197: I tensorflow/core/common_runtime/executor.cc:1197] [/device:CPU:0] (DEBUG INFO) Executor start aborting (this does not indicate an error and you can ignore this message): INVALID_ARGUMENT: You must feed a value for placeholder tensor 'gradients/split_grad/concat/split/split_dim' with dtype int32\n",
      "\t [[{{node gradients/split_grad/concat/split/split_dim}}]]\n",
      "2024-05-14 13:49:08.418753: I tensorflow/core/common_runtime/executor.cc:1197] [/device:CPU:0] (DEBUG INFO) Executor start aborting (this does not indicate an error and you can ignore this message): INVALID_ARGUMENT: You must feed a value for placeholder tensor 'gradients/split_1_grad/concat/split_1/split_dim' with dtype int32\n",
      "\t [[{{node gradients/split_1_grad/concat/split_1/split_dim}}]]\n"
     ]
    },
    {
     "name": "stdout",
     "output_type": "stream",
     "text": [
      "7/7 [==============================] - 2s 64ms/step\n"
     ]
    }
   ],
   "source": [
    "predicted_values = multivariate_lstm.predict(X_test)"
   ]
  },
  {
   "cell_type": "code",
   "execution_count": 47,
   "metadata": {},
   "outputs": [
    {
     "name": "stdout",
     "output_type": "stream",
     "text": [
      "<class 'numpy.ndarray'>\n"
     ]
    },
    {
     "data": {
      "image/png": "[encoded data removed]",
      "text/plain": [
       "<Figure size 640x480 with 1 Axes>"
      ]
     },
     "metadata": {},
     "output_type": "display_data"
    }
   ],
   "source": [
    "import os\n",
    "print(type(predicted_values))\n",
    "pred_df = pd.DataFrame(predicted_values)\n",
    "pred_df.plot(subplots=True)\n",
    "\n",
    "# Save generated data to csv\n",
    "x = datetime.datetime.now()\n",
    "\n",
    "timestamp = x.strftime(\"%d%m%y_%Hh%M\")\n",
    "# generated_df = list_to_df(generated_data)\n",
    "\n",
    "filepath = os.path.join('synt_data', 'lstm', f'lstm_sine_{dim}_{horizon}_{timestamp}.csv')\n",
    "# filepath = os.path.join('synthetic_complex_sines', 'lstm', f'extra_comp_syn_sine_{dim}_{horizon}_{timestamp}.csv')\n",
    "if dim == 1:\n",
    "    pred_df.to_csv(filepath)\n",
    "else:\n",
    "    pred_df.to_csv(filepath, index=False)"
   ]
  }
 ],
 "metadata": {
  "kernelspec": {
   "display_name": "thesis",
   "language": "python",
   "name": "python3"
  },
  "language_info": {
   "codemirror_mode": {
    "name": "ipython",
    "version": 3
   },
   "file_extension": ".py",
   "mimetype": "text/x-python",
   "name": "python",
   "nbconvert_exporter": "python",
   "pygments_lexer": "ipython3",
   "version": "3.10.13"
  }
 },
 "nbformat": 4,
 "nbformat_minor": 2
}
